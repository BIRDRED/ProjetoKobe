{
 "cells": [
  {
   "cell_type": "markdown",
   "id": "87503577-2320-4db2-894f-61df3aa28351",
   "metadata": {
    "tags": []
   },
   "source": [
    "# Imports"
   ]
  },
  {
   "cell_type": "code",
   "execution_count": 3,
   "id": "a3a6c063-756b-4c86-ad3b-e445178cbd5b",
   "metadata": {},
   "outputs": [],
   "source": [
    "import os\n",
    "import warnings\n",
    "import sys\n",
    "\n",
    "import pandas as pd\n",
    "import matplotlib.pyplot as plt\n",
    "import matplotlib as mpl\n",
    "import numpy as np\n",
    "from sklearn import linear_model, preprocessing, metrics, model_selection\n",
    "import mlflow\n",
    "import mlflow.sklearn\n",
    "from mlflow.models.signature import infer_signature\n",
    "from mlflow.tracking import MlflowClient\n",
    "\n",
    "import seaborn as sn\n",
    "\n",
    "if 'inline_rc' not in dir():\n",
    "    inline_rc = dict(mpl.rcParams)\n",
    "\n",
    "SEED = 10\n",
    "np.random.seed(SEED)"
   ]
  },
  {
   "cell_type": "code",
   "execution_count": 4,
   "id": "230f592f-8cab-4cd4-9b0f-3f526e9266ee",
   "metadata": {},
   "outputs": [],
   "source": [
    "mpl.rcParams.update(inline_rc)\n",
    "font = {'family' : 'normal',\n",
    "        'weight' : 'normal',\n",
    "        'size'   : 14}\n",
    "mpl.rc('font', **font)\n",
    "lines = {'linewidth' : 3}\n",
    "mpl.rc('lines', **lines)"
   ]
  },
  {
   "cell_type": "code",
   "execution_count": 5,
   "id": "1b60b4f5-b3ad-425f-8df7-d8022c9afabb",
   "metadata": {},
   "outputs": [],
   "source": [
    "registered_model_name = 'modelo_projeto_kobe'\n",
    "min_precision = 0.7\n",
    "model_version = -1 # recuperar a ultima versao\n",
    "nexamples = 4"
   ]
  },
  {
   "cell_type": "code",
   "execution_count": 52,
   "id": "6cae0c17-a091-49d9-a7f3-641b0ede9e8c",
   "metadata": {},
   "outputs": [
    {
     "data": {
      "text/html": [
       "<style type=\"text/css\">\n",
       "</style>\n",
       "<table id=\"T_cb95b\">\n",
       "  <thead>\n",
       "    <tr>\n",
       "      <th class=\"blank level0\" >&nbsp;</th>\n",
       "      <th id=\"T_cb95b_level0_col0\" class=\"col_heading level0 col0\" >Model</th>\n",
       "      <th id=\"T_cb95b_level0_col1\" class=\"col_heading level0 col1\" >Accuracy</th>\n",
       "      <th id=\"T_cb95b_level0_col2\" class=\"col_heading level0 col2\" >AUC</th>\n",
       "      <th id=\"T_cb95b_level0_col3\" class=\"col_heading level0 col3\" >Recall</th>\n",
       "      <th id=\"T_cb95b_level0_col4\" class=\"col_heading level0 col4\" >Prec.</th>\n",
       "      <th id=\"T_cb95b_level0_col5\" class=\"col_heading level0 col5\" >F1</th>\n",
       "      <th id=\"T_cb95b_level0_col6\" class=\"col_heading level0 col6\" >Kappa</th>\n",
       "      <th id=\"T_cb95b_level0_col7\" class=\"col_heading level0 col7\" >MCC</th>\n",
       "    </tr>\n",
       "  </thead>\n",
       "  <tbody>\n",
       "    <tr>\n",
       "      <th id=\"T_cb95b_level0_row0\" class=\"row_heading level0 row0\" >0</th>\n",
       "      <td id=\"T_cb95b_row0_col0\" class=\"data row0 col0\" >Decision Tree Classifier</td>\n",
       "      <td id=\"T_cb95b_row0_col1\" class=\"data row0 col1\" >0.5999</td>\n",
       "      <td id=\"T_cb95b_row0_col2\" class=\"data row0 col2\" >0.6010</td>\n",
       "      <td id=\"T_cb95b_row0_col3\" class=\"data row0 col3\" >0.3792</td>\n",
       "      <td id=\"T_cb95b_row0_col4\" class=\"data row0 col4\" >0.6113</td>\n",
       "      <td id=\"T_cb95b_row0_col5\" class=\"data row0 col5\" >0.4681</td>\n",
       "      <td id=\"T_cb95b_row0_col6\" class=\"data row0 col6\" >0.1747</td>\n",
       "      <td id=\"T_cb95b_row0_col7\" class=\"data row0 col7\" >0.1876</td>\n",
       "    </tr>\n",
       "  </tbody>\n",
       "</table>\n"
      ],
      "text/plain": [
       "<pandas.io.formats.style.Styler at 0x26313b99760>"
      ]
     },
     "metadata": {},
     "output_type": "display_data"
    }
   ],
   "source": [
    "pred_holdout = pc.predict_model(bestmodel)"
   ]
  },
  {
   "cell_type": "markdown",
   "id": "0df9d4da-76aa-4df4-a5a9-2ac439e662fa",
   "metadata": {
    "tags": []
   },
   "source": [
    "## Servir Dados do Modelo Kobe"
   ]
  },
  {
   "cell_type": "code",
   "execution_count": 73,
   "id": "9d825c38-21fc-482c-bb0c-0796c21611b1",
   "metadata": {},
   "outputs": [],
   "source": [
    "from mlflow.tracking import MlflowClient\n",
    "mlflow.set_registry_uri(\"sqlite:///mlruns.db\")\n",
    "\n",
    "registered_model_name = 'modelo_kobe'\n",
    "min_precision = 0.7\n",
    "model_version = -1 # recuperar a ultima versao\n",
    "nexamples = 4"
   ]
  },
  {
   "cell_type": "code",
   "execution_count": 56,
   "id": "15927e11-5722-4fbd-976b-36f9f6b44db7",
   "metadata": {},
   "outputs": [
    {
     "name": "stdout",
     "output_type": "stream",
     "text": [
      "Transformation Pipeline and Model Successfully Saved\n",
      "Transformation Pipeline and Model Successfully Loaded\n"
     ]
    }
   ],
   "source": [
    "# Pycaret exporta junto o pipeline de preprocessamento\n",
    "pc.save_model(bestmodel, f'./{registered_model_name}') \n",
    "# Carrega novamente o pipeline + bestmodel\n",
    "model_pipe = pc.load_model(f'./{registered_model_name}')"
   ]
  },
  {
   "cell_type": "code",
   "execution_count": 57,
   "id": "eb741667-b944-4ff8-9a6e-9eab6585bd8f",
   "metadata": {},
   "outputs": [],
   "source": [
    "# Assinatura do Modelo Inferida pelo MLFlow\n",
    "model_features = list(df_kobe_2p.drop(kobe_target_col, axis=1).columns)\n",
    "inf_signature = infer_signature(df_kobe_2p[model_features], model_pipe.predict(df_kobe_2p))\n",
    "# Exemplo de entrada para o MLmodel\n",
    "input_example = {x: df_kobe_2p[x].values[:nexamples] for x in model_features}\n",
    "# Log do pipeline de modelagem do sklearn e registrar como uma nova versao"
   ]
  },
  {
   "cell_type": "code",
   "execution_count": 58,
   "id": "d8f5dd4d-c6e9-47d6-8b58-6554f5f9f008",
   "metadata": {},
   "outputs": [
    {
     "name": "stderr",
     "output_type": "stream",
     "text": [
      "Registered model 'modelo_kobe' already exists. Creating a new version of this model...\n",
      "2022/09/05 18:44:38 INFO mlflow.tracking._model_registry.client: Waiting up to 300 seconds for model version to finish creation.                     Model name: modelo_kobe, version 3\n",
      "Created version '3' of model 'modelo_kobe'.\n"
     ]
    },
    {
     "data": {
      "text/plain": [
       "<ModelVersion: creation_timestamp=1662414278222, current_stage='Staging', description=None, last_updated_timestamp=1662414278285, name='modelo_kobe', run_id='fec5b1b4be984cdf8e96293b56fc02d9', run_link=None, source='./mlruns/2/fec5b1b4be984cdf8e96293b56fc02d9/artifacts/sklearn-model', status='READY', status_message=None, tags={}, user_id=None, version=3>"
      ]
     },
     "execution_count": 58,
     "metadata": {},
     "output_type": "execute_result"
    }
   ],
   "source": [
    "# Log do pipeline de modelagem do sklearn e registrar como uma nova versao\n",
    "mlflow.sklearn.log_model(\n",
    "     sk_model=model_pipe,\n",
    "     artifact_path=\"sklearn-model\",\n",
    "     registered_model_name=registered_model_name,\n",
    "     signature = inf_signature,\n",
    "     input_example = input_example\n",
    " )\n",
    "# Criacao do cliente do servico MLFlow e atualizacao versao modelo\n",
    "client = MlflowClient()\n",
    "if model_version == -1:\n",
    "    model_version = client.get_latest_versions(registered_model_name)[-1].version\n",
    "# Registrar o modelo como staging\n",
    "client.transition_model_version_stage(\n",
    "     name=registered_model_name,\n",
    "     version=model_version, # Verificar com usuario qual versao\n",
    "     stage=\"Staging\"\n",
    ")"
   ]
  },
  {
   "cell_type": "code",
   "execution_count": 59,
   "id": "ea723e2c-d4d5-4c12-baa7-5c866e48f7a9",
   "metadata": {},
   "outputs": [],
   "source": [
    "mlflow.end_run()"
   ]
  },
  {
   "cell_type": "code",
   "execution_count": 80,
   "id": "bc3b71ba-21df-432b-9af5-427e197bb568",
   "metadata": {},
   "outputs": [
    {
     "name": "stdout",
     "output_type": "stream",
     "text": [
      "^C\n"
     ]
    }
   ],
   "source": [
    "import os\n",
    "os.environ['MLFLOW_TRACKING_URI'] = 'sqlite:///mlruns.db'\n",
    "!mlflow models serve -m \"models:/modelo_kobe/Staging\" --no-conda -p 5002"
   ]
  },
  {
   "cell_type": "code",
   "execution_count": 81,
   "id": "c35caf02-91a5-45b7-a4b4-afd379d4f611",
   "metadata": {},
   "outputs": [],
   "source": [
    "import requests\n",
    "host = 'localhost'\n",
    "port = '5002'\n",
    "url = f'http://{host}:{port}/invocations'\n",
    "headers = {'Content-Type': 'application/json'}\n",
    "\n",
    "http_data = data_operation.drop(kobe_target_col,axis=1).to_json(orient='split')\n",
    "r = requests.post(url=url, headers=headers, data=http_data)"
   ]
  },
  {
   "cell_type": "code",
   "execution_count": 62,
   "id": "8a63e494-5e6c-459c-808b-15b94918bbee",
   "metadata": {},
   "outputs": [],
   "source": [
    "data_operation.loc[:, 'operation_label'] = pd.read_json(r.text).values[:,0]"
   ]
  },
  {
   "cell_type": "code",
   "execution_count": 63,
   "id": "4508c918-8559-4261-88fd-28af6c0203ff",
   "metadata": {},
   "outputs": [
    {
     "data": {
      "text/html": [
       "<div>\n",
       "<style scoped>\n",
       "    .dataframe tbody tr th:only-of-type {\n",
       "        vertical-align: middle;\n",
       "    }\n",
       "\n",
       "    .dataframe tbody tr th {\n",
       "        vertical-align: top;\n",
       "    }\n",
       "\n",
       "    .dataframe thead th {\n",
       "        text-align: right;\n",
       "    }\n",
       "</style>\n",
       "<table border=\"1\" class=\"dataframe\">\n",
       "  <thead>\n",
       "    <tr style=\"text-align: right;\">\n",
       "      <th></th>\n",
       "      <th>lat</th>\n",
       "      <th>lon</th>\n",
       "      <th>minutes_remaining</th>\n",
       "      <th>period</th>\n",
       "      <th>playoffs</th>\n",
       "      <th>shot_distance</th>\n",
       "      <th>shot_made_flag</th>\n",
       "      <th>operation_label</th>\n",
       "    </tr>\n",
       "  </thead>\n",
       "  <tbody>\n",
       "    <tr>\n",
       "      <th>24824</th>\n",
       "      <td>33.9913</td>\n",
       "      <td>-118.3178</td>\n",
       "      <td>8</td>\n",
       "      <td>4</td>\n",
       "      <td>0</td>\n",
       "      <td>7</td>\n",
       "      <td>1.0</td>\n",
       "      <td>0</td>\n",
       "    </tr>\n",
       "    <tr>\n",
       "      <th>10535</th>\n",
       "      <td>33.9703</td>\n",
       "      <td>-118.2908</td>\n",
       "      <td>11</td>\n",
       "      <td>3</td>\n",
       "      <td>0</td>\n",
       "      <td>7</td>\n",
       "      <td>1.0</td>\n",
       "      <td>1</td>\n",
       "    </tr>\n",
       "    <tr>\n",
       "      <th>26057</th>\n",
       "      <td>33.8863</td>\n",
       "      <td>-118.3848</td>\n",
       "      <td>6</td>\n",
       "      <td>3</td>\n",
       "      <td>0</td>\n",
       "      <td>19</td>\n",
       "      <td>1.0</td>\n",
       "      <td>0</td>\n",
       "    </tr>\n",
       "    <tr>\n",
       "      <th>27642</th>\n",
       "      <td>34.0653</td>\n",
       "      <td>-118.3818</td>\n",
       "      <td>7</td>\n",
       "      <td>3</td>\n",
       "      <td>1</td>\n",
       "      <td>11</td>\n",
       "      <td>0.0</td>\n",
       "      <td>0</td>\n",
       "    </tr>\n",
       "    <tr>\n",
       "      <th>30391</th>\n",
       "      <td>33.9913</td>\n",
       "      <td>-118.3658</td>\n",
       "      <td>6</td>\n",
       "      <td>4</td>\n",
       "      <td>1</td>\n",
       "      <td>10</td>\n",
       "      <td>1.0</td>\n",
       "      <td>0</td>\n",
       "    </tr>\n",
       "  </tbody>\n",
       "</table>\n",
       "</div>"
      ],
      "text/plain": [
       "           lat       lon  minutes_remaining  period  playoffs  shot_distance  \\\n",
       "24824  33.9913 -118.3178                  8       4         0              7   \n",
       "10535  33.9703 -118.2908                 11       3         0              7   \n",
       "26057  33.8863 -118.3848                  6       3         0             19   \n",
       "27642  34.0653 -118.3818                  7       3         1             11   \n",
       "30391  33.9913 -118.3658                  6       4         1             10   \n",
       "\n",
       "       shot_made_flag  operation_label  \n",
       "24824             1.0                0  \n",
       "10535             1.0                1  \n",
       "26057             1.0                0  \n",
       "27642             0.0                0  \n",
       "30391             1.0                0  "
      ]
     },
     "execution_count": 63,
     "metadata": {},
     "output_type": "execute_result"
    }
   ],
   "source": [
    "data_operation.head(5)"
   ]
  },
  {
   "cell_type": "code",
   "execution_count": 64,
   "id": "963bf4d8-b608-4646-90bc-90ce4517d731",
   "metadata": {},
   "outputs": [
    {
     "name": "stdout",
     "output_type": "stream",
     "text": [
      "              precision    recall  f1-score   support\n",
      "\n",
      "         0.0       0.58      0.65      0.61      2133\n",
      "         1.0       0.55      0.49      0.52      1924\n",
      "\n",
      "    accuracy                           0.57      4057\n",
      "   macro avg       0.57      0.57      0.57      4057\n",
      "weighted avg       0.57      0.57      0.57      4057\n",
      "\n"
     ]
    }
   ],
   "source": [
    "print(metrics.classification_report(data_operation[kobe_target_col], data_operation['operation_label']))"
   ]
  },
  {
   "cell_type": "markdown",
   "id": "bc732830-5702-4dfe-ac4c-221dcbdaf814",
   "metadata": {
    "tags": []
   },
   "source": [
    "## Consumir o Serviço do Kobe Bryant"
   ]
  },
  {
   "cell_type": "code",
   "execution_count": 65,
   "id": "bae9f753-dadc-4cd1-907d-095a99ca8c1f",
   "metadata": {},
   "outputs": [
    {
     "name": "stdout",
     "output_type": "stream",
     "text": [
      "[0, 1]\n"
     ]
    },
    {
     "name": "stderr",
     "output_type": "stream",
     "text": [
      "  % Total    % Received % Xferd  Average Speed   Time    Time     Time  Current\n",
      "                                 Dload  Upload   Total   Spent    Left  Speed\n",
      "\n",
      "  0     0    0     0    0     0      0      0 --:--:-- --:--:-- --:--:--     0\n",
      "100   156  100     6  100   150    161   4045 --:--:-- --:--:-- --:--:--  4333\n"
     ]
    }
   ],
   "source": [
    "!curl http://localhost:5002/invocations -X POST -H \"Content-Type:application/json; format=pandas-split\" --data \"{\\\"columns\\\":[\\\"lat\\\", \\\"lon\\\", \\\"minutes_remaining\\\", \\\"period\\\",\\\"playoffs\\\",\\\"shot_distance\\\"],\\\"data\\\":[[35.9913,-120.3178,8,4,0,7],[33.9703,-118.2908,11,3,0,7]]}\""
   ]
  },
  {
   "cell_type": "code",
   "execution_count": 69,
   "id": "933186d3-5817-40c4-b9df-b3f03312e04e",
   "metadata": {},
   "outputs": [
    {
     "data": {
      "text/plain": [
       "0    5411\n",
       "1       1\n",
       "Name: operation_label, dtype: int64"
      ]
     },
     "execution_count": 69,
     "metadata": {},
     "output_type": "execute_result"
    }
   ],
   "source": [
    "df_kobe_3p['operation_label'].value_counts()"
   ]
  },
  {
   "cell_type": "code",
   "execution_count": 70,
   "id": "a1b0a393-069f-4607-b91f-2e405519f702",
   "metadata": {},
   "outputs": [
    {
     "data": {
      "text/plain": [
       "0.0    3630\n",
       "1.0    1782\n",
       "Name: shot_made_flag, dtype: int64"
      ]
     },
     "execution_count": 70,
     "metadata": {},
     "output_type": "execute_result"
    }
   ],
   "source": [
    "df_kobe_3p[kobe_target_col].value_counts()"
   ]
  },
  {
   "cell_type": "code",
   "execution_count": 67,
   "id": "98bf441c-c055-48ce-b481-73d5e44885c1",
   "metadata": {},
   "outputs": [],
   "source": [
    "http_data = df_kobe_3p.drop(kobe_target_col,axis=1).to_json(orient='split')\n",
    "r = requests.post(url=url, headers=headers, data=http_data)"
   ]
  },
  {
   "cell_type": "code",
   "execution_count": 68,
   "id": "7280b68a-1b94-4d32-b8c6-4402614eea67",
   "metadata": {},
   "outputs": [
    {
     "name": "stdout",
     "output_type": "stream",
     "text": [
      "              precision    recall  f1-score   support\n",
      "\n",
      "         0.0       0.67      1.00      0.80      3630\n",
      "         1.0       0.00      0.00      0.00      1782\n",
      "\n",
      "    accuracy                           0.67      5412\n",
      "   macro avg       0.34      0.50      0.40      5412\n",
      "weighted avg       0.45      0.67      0.54      5412\n",
      "\n"
     ]
    }
   ],
   "source": [
    "df_kobe_3p.loc[:, 'operation_label'] = pd.read_json(r.text).values[:,0]\n",
    "\n",
    "print(metrics.classification_report(df_kobe_3p[kobe_target_col], df_kobe_3p['operation_label']))"
   ]
  },
  {
   "cell_type": "code",
   "execution_count": 83,
   "id": "c6f0444a-fe3a-494f-9ff3-ccd030c8d0a9",
   "metadata": {},
   "outputs": [
    {
     "name": "stdout",
     "output_type": "stream",
     "text": [
      "^C\n"
     ]
    }
   ],
   "source": [
    "import os\n",
    "os.environ['MLFLOW_TRACKING_URI'] = 'sqlite:///mlruns.db'\n",
    "!mlflow models serve -m \"models:/modelo_kobe/Staging\" --no-conda -p 5003"
   ]
  },
  {
   "cell_type": "code",
   "execution_count": 84,
   "id": "6a4a6699-e9d1-4166-a42d-de810dff4377",
   "metadata": {},
   "outputs": [],
   "source": [
    "import requests\n",
    "host = 'localhost'\n",
    "port = '5003'\n",
    "url = f'http://{host}:{port}/invocations'\n",
    "headers = {'Content-Type': 'application/json'}\n",
    "\n",
    "http_data = data_operation.drop(kobe_target_col,axis=1).to_json(orient='split')\n",
    "r = requests.post(url=url, headers=headers, data=http_data)"
   ]
  },
  {
   "cell_type": "code",
   "execution_count": 85,
   "id": "47f56ce6-7930-4ffe-960a-b71d7d8d6cae",
   "metadata": {},
   "outputs": [],
   "source": [
    "data_operation.loc[:, 'operation_label'] = pd.read_json(r.text).values[:,0]"
   ]
  },
  {
   "cell_type": "code",
   "execution_count": 88,
   "id": "1ce21d73-62ec-4e4b-ad0b-1ba134423f79",
   "metadata": {},
   "outputs": [
    {
     "name": "stdout",
     "output_type": "stream",
     "text": [
      "[0, 0]\n"
     ]
    },
    {
     "name": "stderr",
     "output_type": "stream",
     "text": [
      "  % Total    % Received % Xferd  Average Speed   Time    Time     Time  Current\n",
      "                                 Dload  Upload   Total   Spent    Left  Speed\n",
      "\n",
      "  0     0    0     0    0     0      0      0 --:--:-- --:--:-- --:--:--     0\n",
      "100   156  100     6  100   150    130   3272 --:--:-- --:--:-- --:--:--  3466\n"
     ]
    }
   ],
   "source": [
    "!curl http://localhost:5003/invocations -X POST -H \"Content-Type:application/json; format=pandas-split\" --data \"{\\\"columns\\\":[\\\"lat\\\", \\\"lon\\\", \\\"minutes_remaining\\\", \\\"period\\\",\\\"playoffs\\\",\\\"shot_distance\\\"],\\\"data\\\":[[35.9913,-120.3178,8,4,0,7],[33.9703,-118.2908,11,3,0,7]]}\""
   ]
  },
  {
   "cell_type": "code",
   "execution_count": 89,
   "id": "2435e6ee-e642-4592-a06a-6c2307eab146",
   "metadata": {},
   "outputs": [],
   "source": [
    "http_data = df_kobe_3p.drop(kobe_target_col,axis=1).to_json(orient='split')\n",
    "r = requests.post(url=url, headers=headers, data=http_data)"
   ]
  },
  {
   "cell_type": "code",
   "execution_count": 90,
   "id": "c402d994-c498-4278-aa41-d70c778563bd",
   "metadata": {},
   "outputs": [
    {
     "name": "stdout",
     "output_type": "stream",
     "text": [
      "              precision    recall  f1-score   support\n",
      "\n",
      "         0.0       0.67      0.94      0.78      3630\n",
      "         1.0       0.35      0.07      0.12      1782\n",
      "\n",
      "    accuracy                           0.65      5412\n",
      "   macro avg       0.51      0.50      0.45      5412\n",
      "weighted avg       0.56      0.65      0.56      5412\n",
      "\n"
     ]
    }
   ],
   "source": [
    "df_kobe_3p.loc[:, 'operation_label'] = pd.read_json(r.text).values[:,0]\n",
    "\n",
    "print(metrics.classification_report(df_kobe_3p[kobe_target_col], df_kobe_3p['operation_label']))"
   ]
  },
  {
   "cell_type": "code",
   "execution_count": 92,
   "id": "c0674f21-6828-4cc8-9666-aeebbf5fbd35",
   "metadata": {},
   "outputs": [
    {
     "data": {
      "text/plain": [
       "0    5057\n",
       "1     355\n",
       "Name: operation_label, dtype: int64"
      ]
     },
     "execution_count": 92,
     "metadata": {},
     "output_type": "execute_result"
    }
   ],
   "source": [
    "df_kobe_3p['operation_label'].value_counts()"
   ]
  },
  {
   "cell_type": "code",
   "execution_count": null,
   "id": "8ebbda0b-08eb-4b87-8dac-c4121a9ad9b5",
   "metadata": {},
   "outputs": [],
   "source": []
  }
 ],
 "metadata": {
  "kernelspec": {
   "display_name": "Python 3 (ipykernel)",
   "language": "python",
   "name": "python3"
  },
  "language_info": {
   "codemirror_mode": {
    "name": "ipython",
    "version": 3
   },
   "file_extension": ".py",
   "mimetype": "text/x-python",
   "name": "python",
   "nbconvert_exporter": "python",
   "pygments_lexer": "ipython3",
   "version": "3.8.0"
  }
 },
 "nbformat": 4,
 "nbformat_minor": 5
}
